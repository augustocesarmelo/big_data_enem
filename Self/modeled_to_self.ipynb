{
 "cells": [
  {
   "cell_type": "code",
   "execution_count": 77,
   "metadata": {},
   "outputs": [],
   "source": [
    "#Todos os imports necessários para aplicação.\n",
    "import os\n",
    "import sagemaker_pyspark\n",
    "from pyspark.sql import SparkSession\n",
    "from pyspark.sql.types import StructType, StructField,StringType, FloatType\n",
    "from pyspark import SparkContext, SparkConf\n",
    "from sagemaker_pyspark import classpath_jars\n",
    "from pyspark.sql.functions import create_map, struct\n",
    "from pyspark.sql.functions import exp\n",
    "from pyspark.sql.functions import regexp_replace\n",
    "from pyspark.sql.functions import avg\n",
    "from pyspark.sql.functions import col\n",
    "from pyspark.sql.functions import when, lit\n",
    "from pyspark.sql import SQLContext\n",
    "from functools import reduce \n",
    "from pyspark.sql import DataFrame\n",
    "\n",
    "import matplotlib\n",
    "import matplotlib.pyplot as plt\n",
    "import numpy as np"
   ]
  },
  {
   "cell_type": "code",
   "execution_count": 13,
   "metadata": {},
   "outputs": [
    {
     "data": {
      "text/html": [
       "\n",
       "            <div>\n",
       "                <p><b>SparkSession - in-memory</b></p>\n",
       "                \n",
       "        <div>\n",
       "            <p><b>SparkContext</b></p>\n",
       "\n",
       "            <p><a href=\"http://192.168.56.1:4041\">Spark UI</a></p>\n",
       "\n",
       "            <dl>\n",
       "              <dt>Version</dt>\n",
       "                <dd><code>v2.3.2</code></dd>\n",
       "              <dt>Master</dt>\n",
       "                <dd><code>local[*]</code></dd>\n",
       "              <dt>AppName</dt>\n",
       "                <dd><code>Dados Enem</code></dd>\n",
       "            </dl>\n",
       "        </div>\n",
       "        \n",
       "            </div>\n",
       "        "
      ],
      "text/plain": [
       "<pyspark.sql.session.SparkSession at 0xa506590>"
      ]
     },
     "execution_count": 13,
     "metadata": {},
     "output_type": "execute_result"
    }
   ],
   "source": [
    "classpath = \":\".join(sagemaker_pyspark.classpath_jars())\n",
    "\n",
    "builder = SparkSession.builder.appName(\"Dados Enem\")\n",
    "builder.config(\n",
    "    \"spark.hadoop.mapreduce.fileoutputcommitter.algorithm.version\", \"2\")\n",
    "builder.config(\"spark.speculation\", \"false\")\n",
    "builder.config(\"spark.sql.parquet.compression.codec\", \"gzip\")\n",
    "builder.config(\"spark.debug.maxToStringFields\", \"100\")\n",
    "builder.config(\"spark.driver.extraClassPath\", classpath)\n",
    "builder.config(\"spark.driver.memory\", \"1g\")\n",
    "builder.config(\"spark.driver.cores\", \"1\")\n",
    "builder.config(\"spark.executor-memory\", \"20g\")\n",
    "builder.config(\"spark.executor.cores\", \"4\")\n",
    "\n",
    "\n",
    "builder.master(\"local[*]\")\n",
    "\n",
    "spark = builder.getOrCreate()\n",
    "spark"
   ]
  },
  {
   "cell_type": "code",
   "execution_count": 14,
   "metadata": {},
   "outputs": [],
   "source": [
    "LANDED = 'C:\\\\BigData\\\\Fontes\\\\microdados_enem\\\\Landed\\\\'\n",
    "RAW = 'C:\\\\BigData\\\\Fontes\\\\microdados_enem\\\\Raw\\\\'\n",
    "MODELED = 'C:\\\\BigData\\\\Fontes\\\\microdados_enem\\\\Modeled\\\\'\n",
    "SELF = 'C:\\\\BigData\\\\Fontes\\\\microdados_enem\\\\Self\\\\'"
   ]
  },
  {
   "cell_type": "code",
   "execution_count": 15,
   "metadata": {},
   "outputs": [],
   "source": [
    "ENEM_PARQUET = 'MICRODADOS_ENEM_UNION.parquet'"
   ]
  },
  {
   "cell_type": "code",
   "execution_count": 16,
   "metadata": {},
   "outputs": [
    {
     "name": "stdout",
     "output_type": "stream",
     "text": [
      "root\n",
      " |-- NU_ANO: integer (nullable = true)\n",
      " |-- NU_NOTA_CN: double (nullable = true)\n",
      " |-- NU_NOTA_CH: double (nullable = true)\n",
      " |-- NU_NOTA_LC: double (nullable = true)\n",
      " |-- NU_NOTA_MT: double (nullable = true)\n",
      " |-- NU_NOTA_REDACAO: integer (nullable = true)\n",
      " |-- Q001: string (nullable = true)\n",
      " |-- Q002: string (nullable = true)\n",
      " |-- Q005: integer (nullable = true)\n",
      " |-- RENDA_FAMILIAR: string (nullable = true)\n",
      "\n"
     ]
    }
   ],
   "source": [
    "sqlContext = SQLContext(spark.sparkContext)\n",
    "\n",
    "df = spark.read.parquet(MODELED + ENEM_PARQUET)    \n",
    "df.printSchema()  "
   ]
  },
  {
   "cell_type": "code",
   "execution_count": 84,
   "metadata": {},
   "outputs": [
    {
     "name": "stdout",
     "output_type": "stream",
     "text": [
      "root\n",
      " |-- NU_ANO: integer (nullable = true)\n",
      " |-- RENDA_FAMILIAR: string (nullable = true)\n",
      " |-- avg(NU_NOTA_CN): double (nullable = true)\n",
      " |-- avg(NU_NOTA_CH): double (nullable = true)\n",
      " |-- avg(NU_NOTA_LC): double (nullable = true)\n",
      " |-- avg(NU_NOTA_MT): double (nullable = true)\n",
      " |-- avg(NU_NOTA_REDACAO): double (nullable = true)\n",
      "\n"
     ]
    },
    {
     "data": {
      "text/plain": [
       "DataFrame[NU_ANO: int, RENDA_FAMILIAR: string, avg(NU_NOTA_CN): double, avg(NU_NOTA_CH): double, avg(NU_NOTA_LC): double, avg(NU_NOTA_MT): double, avg(NU_NOTA_REDACAO): double]"
      ]
     },
     "metadata": {},
     "output_type": "display_data"
    }
   ],
   "source": [
    "dfPorRendaFamiliar = df.selectExpr(\"NU_ANO\", \"RENDA_FAMILIAR\",  \"NU_NOTA_CN\", \"NU_NOTA_CH\", \"NU_NOTA_LC\", \"NU_NOTA_MT\", \"NU_NOTA_REDACAO\"  ).groupBy(\"NU_ANO\", \"RENDA_FAMILIAR\").avg(\"NU_NOTA_CN\", \"NU_NOTA_CH\", \"NU_NOTA_LC\", \"NU_NOTA_MT\", \"NU_NOTA_REDACAO\").orderBy(\"NU_ANO\", \"RENDA_FAMILIAR\")\n",
    "dfPorRendaFamiliar.printSchema() "
   ]
  },
  {
   "cell_type": "code",
   "execution_count": 85,
   "metadata": {},
   "outputs": [],
   "source": [
    "dfPorRendaFamiliar = dfPorRendaFamiliar.withColumn(\"NOTA_GERAL\", ( (col(\"avg(NU_NOTA_LC)\") + col(\"avg(NU_NOTA_MT)\") + col(\"avg(NU_NOTA_CN)\") + col(\"avg(NU_NOTA_CH)\")) / 4  + col(\"avg(NU_NOTA_REDACAO)\" ) ) / lit(2) ) "
   ]
  },
  {
   "cell_type": "code",
   "execution_count": 122,
   "metadata": {},
   "outputs": [],
   "source": [
    "dfPorRendaFamiliarFinal = dfPorRendaFamiliar.select(\"NU_ANO\", \"RENDA_FAMILIAR\", \"NOTA_GERAL\")\n",
    "\n",
    "\n",
    "dfPorRendaFamiliarFinal = dfPorRendaFamiliarFinal.withColumn(\"RENDA_FAMILIAR\", when(dfPorRendaFamiliarFinal.RENDA_FAMILIAR == lit(\"A\") , lit(\"Nenhuma Renda\") ).otherwise(dfPorRendaFamiliarFinal.RENDA_FAMILIAR)  )\n",
    "dfPorRendaFamiliarFinal = dfPorRendaFamiliarFinal.withColumn(\"RENDA_FAMILIAR\", when(dfPorRendaFamiliarFinal.RENDA_FAMILIAR == lit(\"B\") , lit(\"Até R$ 880,00\") ).otherwise(dfPorRendaFamiliarFinal.RENDA_FAMILIAR)  )\n",
    "dfPorRendaFamiliarFinal = dfPorRendaFamiliarFinal.withColumn(\"RENDA_FAMILIAR\", when(dfPorRendaFamiliarFinal.RENDA_FAMILIAR == lit(\"C\") , lit(\"De R$ 880,01 até R$ 1.320,00\") ).otherwise(dfPorRendaFamiliarFinal.RENDA_FAMILIAR)  )\n",
    "dfPorRendaFamiliarFinal = dfPorRendaFamiliarFinal.withColumn(\"RENDA_FAMILIAR\", when(dfPorRendaFamiliarFinal.RENDA_FAMILIAR == lit(\"D\") , lit(\"De R$ 1.320,01 até R$ 1.760,00\") ).otherwise(dfPorRendaFamiliarFinal.RENDA_FAMILIAR)  )\n",
    "dfPorRendaFamiliarFinal = dfPorRendaFamiliarFinal.withColumn(\"RENDA_FAMILIAR\", when(dfPorRendaFamiliarFinal.RENDA_FAMILIAR == lit(\"E\") , lit(\"De R$ 1.760,01 até R$ 2.200,00\") ).otherwise(dfPorRendaFamiliarFinal.RENDA_FAMILIAR)  )\n",
    "dfPorRendaFamiliarFinal = dfPorRendaFamiliarFinal.withColumn(\"RENDA_FAMILIAR\", when(dfPorRendaFamiliarFinal.RENDA_FAMILIAR == lit(\"F\") , lit(\"De R$ 2.200,01 até R$ 2.640,00\") ).otherwise(dfPorRendaFamiliarFinal.RENDA_FAMILIAR)  )\n",
    "dfPorRendaFamiliarFinal = dfPorRendaFamiliarFinal.withColumn(\"RENDA_FAMILIAR\", when(dfPorRendaFamiliarFinal.RENDA_FAMILIAR == lit(\"G\") , lit(\"De R$ 2.640,01 até R$ 3.520,00\") ).otherwise(dfPorRendaFamiliarFinal.RENDA_FAMILIAR)  )\n",
    "dfPorRendaFamiliarFinal = dfPorRendaFamiliarFinal.withColumn(\"RENDA_FAMILIAR\", when(dfPorRendaFamiliarFinal.RENDA_FAMILIAR == lit(\"H\") , lit(\"De R$ 3.520,01 até R$ 4.400,00\") ).otherwise(dfPorRendaFamiliarFinal.RENDA_FAMILIAR)  )\n",
    "dfPorRendaFamiliarFinal = dfPorRendaFamiliarFinal.withColumn(\"RENDA_FAMILIAR\", when(dfPorRendaFamiliarFinal.RENDA_FAMILIAR == lit(\"I\") , lit(\"De R$ 4.400,01 até R$ 5.280,00\") ).otherwise(dfPorRendaFamiliarFinal.RENDA_FAMILIAR)  )\n",
    "dfPorRendaFamiliarFinal = dfPorRendaFamiliarFinal.withColumn(\"RENDA_FAMILIAR\", when(dfPorRendaFamiliarFinal.RENDA_FAMILIAR == lit(\"J\") , lit(\"De R$ 5.280,01 até R$ 6.160,00\") ).otherwise(dfPorRendaFamiliarFinal.RENDA_FAMILIAR)  )\n",
    "dfPorRendaFamiliarFinal = dfPorRendaFamiliarFinal.withColumn(\"RENDA_FAMILIAR\", when(dfPorRendaFamiliarFinal.RENDA_FAMILIAR == lit(\"K\") , lit(\"De R$ 6.160,01 até R$ 7.040,00\") ).otherwise(dfPorRendaFamiliarFinal.RENDA_FAMILIAR)  )\n",
    "dfPorRendaFamiliarFinal = dfPorRendaFamiliarFinal.withColumn(\"RENDA_FAMILIAR\", when(dfPorRendaFamiliarFinal.RENDA_FAMILIAR == lit(\"L\") , lit(\"De R$ 7.040,01 até R$ 7.920,00\") ).otherwise(dfPorRendaFamiliarFinal.RENDA_FAMILIAR)  )\n",
    "dfPorRendaFamiliarFinal = dfPorRendaFamiliarFinal.withColumn(\"RENDA_FAMILIAR\", when(dfPorRendaFamiliarFinal.RENDA_FAMILIAR == lit(\"M\") , lit(\"De R$ 7.920,01 até R$ 8.800,00\") ).otherwise(dfPorRendaFamiliarFinal.RENDA_FAMILIAR)  )\n"
   ]
  },
  {
   "cell_type": "code",
   "execution_count": 120,
   "metadata": {},
   "outputs": [],
   "source": [
    "#dfPorRendaFamiliarFinal = dfPorRendaFamiliarFinal.withColumn(\"RENDA_FAMILIAR\", when(dfPorRendaFamiliarFinal.RENDA_FAMILIAR == lit(\"N\") , lit(\"De R$ 8.800,01 até R$ 10.560,00\") ).otherwise(dfPorRendaFamiliarFinal.RENDA_FAMILIAR)  )\n",
    "#dfPorRendaFamiliarFinal = dfPorRendaFamiliarFinal.withColumn(\"RENDA_FAMILIAR\", when(dfPorRendaFamiliarFinal.RENDA_FAMILIAR == lit(\"O\") , lit(\"De R$ 10.560,01 até R$ 13.200,00\") ).otherwise(dfPorRendaFamiliarFinal.RENDA_FAMILIAR)  )\n",
    "#dfPorRendaFamiliarFinal = dfPorRendaFamiliarFinal.withColumn(\"RENDA_FAMILIAR\", when(dfPorRendaFamiliarFinal.RENDA_FAMILIAR == lit(\"P\") , lit(\"De R$ 13.200,01 até R$ 17.600,00\") ).otherwise(dfPorRendaFamiliarFinal.RENDA_FAMILIAR)  )\n",
    "#dfPorRendaFamiliarFinal = dfPorRendaFamiliarFinal.withColumn(\"RENDA_FAMILIAR\", when(dfPorRendaFamiliarFinal.RENDA_FAMILIAR == lit(\"Q\") , lit(\"Mais de R$ 17.600,00\") ).otherwise(dfPorRendaFamiliarFinal.RENDA_FAMILIAR)  )\n"
   ]
  },
  {
   "cell_type": "code",
   "execution_count": 123,
   "metadata": {},
   "outputs": [
    {
     "name": "stdout",
     "output_type": "stream",
     "text": [
      "+------+--------------------+------------------+\n",
      "|NU_ANO|      RENDA_FAMILIAR|        NOTA_GERAL|\n",
      "+------+--------------------+------------------+\n",
      "|  2016|                null| 615.2583333333333|\n",
      "|  2016|       Nenhuma Renda| 473.1718047992241|\n",
      "|  2016|       Até R$ 880,00| 479.6661556176029|\n",
      "|  2016|De R$ 880,01 até ...| 500.2549036511241|\n",
      "|  2016|De R$ 1.320,01 at...| 515.0369947863906|\n",
      "|  2016|De R$ 1.760,01 at...| 526.7168036240898|\n",
      "|  2016|De R$ 2.200,01 at...| 537.7037669698568|\n",
      "|  2016|De R$ 2.640,01 at...|  553.840504106677|\n",
      "|  2016|De R$ 3.520,01 at...| 568.7492590274885|\n",
      "|  2016|De R$ 4.400,01 at...| 584.5491117347406|\n",
      "|  2016|De R$ 5.280,01 at...| 597.4382883025535|\n",
      "|  2016|De R$ 6.160,01 at...| 606.8770430953273|\n",
      "|  2016|De R$ 7.040,01 at...|  615.929418193052|\n",
      "|  2016|De R$ 7.920,01 at...| 617.8437877296365|\n",
      "|  2016|                   N| 624.9513490055512|\n",
      "|  2016|                   O| 634.7675900554352|\n",
      "|  2016|                   P| 644.3501952336267|\n",
      "|  2016|                   Q| 653.4853740218173|\n",
      "|  2017|                null|455.08750000000003|\n",
      "|  2017|       Nenhuma Renda|464.83426569826463|\n",
      "+------+--------------------+------------------+\n",
      "only showing top 20 rows\n",
      "\n"
     ]
    }
   ],
   "source": [
    "dfPorRendaFamiliarFinal.show()"
   ]
  },
  {
   "cell_type": "code",
   "execution_count": null,
   "metadata": {},
   "outputs": [],
   "source": []
  }
 ],
 "metadata": {
  "kernelspec": {
   "display_name": "Python 3",
   "language": "python",
   "name": "python3"
  },
  "language_info": {
   "codemirror_mode": {
    "name": "ipython",
    "version": 3
   },
   "file_extension": ".py",
   "mimetype": "text/x-python",
   "name": "python",
   "nbconvert_exporter": "python",
   "pygments_lexer": "ipython3",
   "version": "3.7.3"
  }
 },
 "nbformat": 4,
 "nbformat_minor": 2
}
